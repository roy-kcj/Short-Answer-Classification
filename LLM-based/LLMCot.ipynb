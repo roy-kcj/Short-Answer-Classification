{
 "cells": [
  {
   "cell_type": "code",
   "execution_count": null,
   "id": "489d545b",
   "metadata": {
    "vscode": {
     "languageId": "plaintext"
    }
   },
   "outputs": [],
   "source": [
    "import os\n",
    "import pandas as pd\n",
    "from dotenv import load_dotenv, dotenv_values\n",
    "from groq import Groq\n",
    "import re"
   ]
  },
  {
   "cell_type": "code",
   "execution_count": null,
   "id": "ab0c9392",
   "metadata": {
    "vscode": {
     "languageId": "plaintext"
    }
   },
   "outputs": [],
   "source": [
    "# 1. Setup\n",
    "# API Clients\n",
    "#load_dotenv() \n",
    "config = dotenv_values(\".env\") # use this if you are using school laptop / device\n",
    "groq_client = Groq(api_key=config[\"GROQ_API_KEY\"])\n",
    "# openai_client = OpenAI(api_key=config[\"OPENAI_API_KEY\"])\n",
    "\n",
    "\n",
    "# groq_client = Groq(api_key=os.environ.get(\"GROQ_API_KEY\"))\n",
    "# openai_client = OpenAI(api_key=os.environ.get(\"OPENAI_API_KEY\"))\n",
    "\n",
    "# Model configs\n",
    "GROQ_MODEL = \"llama3-8b-8192\"  \n",
    "OPENAI_MODEL = \"gpt-3.5-turbo-1106\"  # \"gpt-4-1106-preview\"\n",
    "\n",
    "TEMPERATURE = 0.2\n",
    "MAX_TOKENS = 20\n",
    "#BATCH_SIZE = 5\n",
    "\n",
    "# File paths\n",
    "INPUT_FILE = \"test_predictions_merged.csv\"\n",
    "OUTPUT_FILE = \"test_predictions_cot_2.csv\" # Name whatever you want\n",
    "\n",
    "# Save frequency\n",
    "FREQUENCY = 250\n",
    "\n",
    "\n",
    "# STARTING INDEX\n",
    "START_IDX = len(df) // 2 # Set accordingly if Mustafa wants to also help run\n",
    "# ENDING INDEX\n",
    "END_IDX = len(df) # Set accordingly if Mustafa wants to also help run"
   ]
  },
  {
   "cell_type": "code",
   "execution_count": null,
   "id": "5907203f",
   "metadata": {
    "vscode": {
     "languageId": "plaintext"
    }
   },
   "outputs": [],
   "source": [
    "# Laod CSV\n",
    "df = pd.read_csv(INPUT_FILE)\n",
    "if \"groq_pred_cot\" not in df.columns:\n",
    "    df[\"groq_pred_cot\"] = None"
   ]
  },
  {
   "cell_type": "code",
   "execution_count": null,
   "id": "6c562131",
   "metadata": {
    "vscode": {
     "languageId": "plaintext"
    }
   },
   "outputs": [],
   "source": [
    "def build_cot_prompt(question, correct_answer, response):\n",
    "    return f\"\"\"\n",
    "            You are a short answer grader. Think step-by-step.\n",
    "                    \n",
    "            1. Analyze if the Response matches the key information in the CorrectAnswer.\n",
    "            2. Output only one line by deciding:\n",
    "                - If correct, output 1.\n",
    "                - If similar but not exact, output 0.\n",
    "                - If wrong, output -1.\n",
    "                    \n",
    "            Question: {question}\n",
    "            CorrectAnswer: {correct_answer}\n",
    "            Response: {response}\n",
    "                    \n",
    "            Final Label (only -1, 0, or 1):\n",
    "        \"\"\""
   ]
  },
  {
   "cell_type": "code",
   "execution_count": null,
   "id": "810c02c9",
   "metadata": {
    "vscode": {
     "languageId": "plaintext"
    }
   },
   "outputs": [],
   "source": [
    "def parse_prediction(output):\n",
    "    \"\"\"\n",
    "    Extract the final -1, 0, or 1 from a text response.\n",
    "    Looks for the last valid number in the entire output.\n",
    "    \"\"\"\n",
    "    output = str(output).strip()\n",
    "    matches = re.findall(r\"[-]?\\b[01]\\b\", output)\n",
    "    if matches:\n",
    "        return int(matches[-1])  # Return the last matching number\n",
    "    return None"
   ]
  },
  {
   "cell_type": "code",
   "execution_count": null,
   "id": "32f7694d",
   "metadata": {
    "vscode": {
     "languageId": "plaintext"
    }
   },
   "outputs": [],
   "source": [
    "for idx in range(START_IDX, END_IDX):\n",
    "    if pd.notnull(df.at[idx, \"groq_pred_cot\"]):\n",
    "        continue\n",
    "\n",
    "    row = df.iloc[idx]\n",
    "    prompt = build_cot_prompt(row[\"Question\"], row[\"CorrectAnswer\"], row[\"Response\"])\n",
    "    \n",
    "    try:\n",
    "        res = groq_client.chat.completions.create(\n",
    "            model=GROQ_MODEL,\n",
    "            messages=[\n",
    "                {\"role\": \"system\", \"content\": \"You are a strict grader. Only return -1, 0, or 1.\"},\n",
    "                {\"role\": \"user\", \"content\": prompt}\n",
    "            ],\n",
    "            max_tokens=MAX_TOKENS,\n",
    "            temperature=TEMPERATURE\n",
    "        )\n",
    "        prediction = parse_prediction(res.choices[0].message.content.strip())\n",
    "        if prediction is not None:\n",
    "            df.at[idx, \"groq_pred_cot\"] = prediction\n",
    "            # print(res.choices[0].message.content) # testing purpose\n",
    "        else:\n",
    "            print(f\"[Warning] Invalid response at idx {idx}: {res.choices[0].message.content}\")\n",
    "    except Exception as e:\n",
    "        print(f\"[Error] idx {idx}: {e}\")\n",
    "\n",
    "    if idx % FREQUENCY == 0:\n",
    "        df.to_csv(OUTPUT_FILE, index=False)\n",
    "        print(f\"[Progress] Saved at idx {idx}\")\n",
    "\n",
    "# ==== Final save ====\n",
    "df.to_csv(OUTPUT_FILE, index=False)\n",
    "print(\"✅ Finished processing second half of dataset.\")"
   ]
  },
  {
   "cell_type": "code",
   "execution_count": null,
   "id": "1178e384-4c19-4279-a7c8-a8f169ab734e",
   "metadata": {},
   "outputs": [],
   "source": []
  }
 ],
 "metadata": {
  "kernelspec": {
   "display_name": "Python (nlp_course)",
   "language": "python",
   "name": "nlp_course"
  },
  "language_info": {
   "codemirror_mode": {
    "name": "ipython",
    "version": 3
   },
   "file_extension": ".py",
   "mimetype": "text/x-python",
   "name": "python",
   "nbconvert_exporter": "python",
   "pygments_lexer": "ipython3",
   "version": "3.10.16"
  }
 },
 "nbformat": 4,
 "nbformat_minor": 5
}
